{
 "cells": [
  {
   "cell_type": "code",
   "execution_count": 2,
   "metadata": {},
   "outputs": [],
   "source": [
    "import xml.sax\n"
   ]
  },
  {
   "cell_type": "code",
   "execution_count": 3,
   "metadata": {},
   "outputs": [
    {
     "name": "stdout",
     "output_type": "stream",
     "text": [
      "title: Noticias\n",
      "link: http://misitio.com\n",
      "description: Portal de Noticias de España\n",
      "title: Noticia 1\n",
      "link: http://misitio.com/noticia1\n",
      "description: Descripción de la noticia 1\n",
      "title: Noticia 2\n",
      "link: http://misitio.com/noticia2\n",
      "description: Descripción de la noticia 2\n",
      "title: Noticia 3\n",
      "link: http://misitio.com/noticia3\n",
      "description: Descripción de la noticia 3\n"
     ]
    }
   ],
   "source": [
    "class noticia_sax (xml.sax.ContentHandler):\n",
    "    def __init__ (self):\n",
    "        self.title=\"\",\n",
    "        self.link=\"\",\n",
    "        self.description=\"\",\n",
    "        self.dados=\"\"\n",
    "        \n",
    "    def startElement(self, target,atributos):\n",
    "        self.dados=target\n",
    "        \n",
    "    def endElement(self,target):\n",
    "        if self.dados==\"title\":\n",
    "            print(\"title:\",self.title)\n",
    "        elif self.dados==\"link\":\n",
    "             print(\"link:\", self.link)\n",
    "        elif self.dados==\"description\":\n",
    "            print(\"description:\",self.description)\n",
    "        \n",
    "        self.dados=\"\"  \n",
    "        \n",
    "    def characters(self,cont):\n",
    "        if self.dados==\"title\":\n",
    "            self.title=cont\n",
    "        elif self.dados==\"link\":\n",
    "            self.link=cont\n",
    "        elif self.dados==\"description\":\n",
    "            self.description=cont\n",
    "            \n",
    "            \n",
    "if (__name__=='__main__'):\n",
    "    parser=xml.sax.make_parser()\n",
    "    parser.setFeature(xml.sax.handler.feature_namespaces,0)\n",
    "    \n",
    "    handler=noticia_sax()\n",
    "    parser.setContentHandler(handler)\n",
    "    parser.parse(\"rss.xml\")"
   ]
  },
  {
   "cell_type": "markdown",
   "metadata": {},
   "source": [
    "# EXEMPLO LIVRO"
   ]
  },
  {
   "cell_type": "code",
   "execution_count": 20,
   "metadata": {},
   "outputs": [
    {
     "name": "stdout",
     "output_type": "stream",
     "text": [
      "******LIVROS*******\n",
      "isbn: 0-596-00128-2\n",
      "Titulo: Python y XML\n",
      "Fecha: Diciembre 2001\n",
      "Autor: Pepito Perez\n",
      "******LIVROS*******\n",
      "isbn: 0-596-15810-6\n",
      "Titulo: Programacion avanzada de XML\n",
      "Fecha: Octoubre 2010\n",
      "Autor: Juan Garcia\n",
      "******LIVROS*******\n",
      "isbn: 0-596-15806-8\n",
      "Titulo: Aprendiendo Java\n",
      "Fecha: Septiembre 2009\n",
      "Autor: Juan Garcia\n",
      "******LIVROS*******\n",
      "isbn: 0-596-15808-4\n",
      "Titulo: Python para moviles\n",
      "Fecha: Octubre 2009\n",
      "Autor: Pepito Perez\n",
      "******LIVROS*******\n",
      "isbn: 0-596-00797-3\n",
      "Titulo: R para estadistica\n",
      "Fecha: Marzo 2005\n",
      "Autor: Juan\n",
      "Autor: Pepe\n",
      "Autor: Isabel\n",
      "******LIVROS*******\n",
      "isbn: 0-596-10046-9\n",
      "Titulo: Python en 100 paginas\n",
      "Fecha: Julio 2006\n",
      "Autor: Julia\n"
     ]
    }
   ],
   "source": [
    "class livro_sax (xml.sax.ContentHandler):\n",
    "    \n",
    "    def __init__(self):\n",
    "        self.isbn=\"\"\n",
    "        self.titulo=\"\"\n",
    "        self.fecha=\"\"\n",
    "        self.autor=\"\"\n",
    "        self.dados=\"\"\n",
    "        \n",
    "    def startElement(self,etiqueta,atributos): \n",
    "        self.Datos=etiqueta \n",
    "        if etiqueta==\"Libro\": \n",
    "            print (\"****Libro****\") \n",
    "            isbn=atributos[\"isbn\"] \n",
    "            print (\"isbn:\", isbn) \n",
    "\n",
    "        \n",
    "    def startElement(self,tag,attrib):\n",
    "        self.dados=tag\n",
    "        if tag=='Libro':\n",
    "            print(\"******LIVROS*******\")\n",
    "            isbn=attrib[\"isbn\"] \n",
    "            print (\"isbn:\", isbn) \n",
    "                \n",
    "    def endElement(self,tag):\n",
    "        if self.dados==\"titulo\":\n",
    "            print(\"Titulo:\",self.titulo)\n",
    "        elif self.dados=='fecha':\n",
    "            print(\"Fecha:\",self.fecha)\n",
    "        elif self.dados==\"autor\":\n",
    "            print(\"Autor:\",self.autor)\n",
    "        self.dados=\"\"\n",
    "        \n",
    "    def characters(self,cont):\n",
    "        if self.dados==\"titulo\":\n",
    "            self.titulo=cont\n",
    "        elif self.dados==\"fecha\":\n",
    "             self.fecha=cont\n",
    "        elif self.dados==\"autor\":\n",
    "             self.autor=cont\n",
    "                \n",
    "                \n",
    "                \n",
    "if (__name__=='__main__'):\n",
    "    parser=xml.sax.make_parser()\n",
    "    parser.setFeature(xml.sax.handler.feature_namespaces,0)\n",
    "    \n",
    "    handler=livro_sax()\n",
    "    parser.setContentHandler(handler)\n",
    "    parser.parse(\"datos.xml\")"
   ]
  },
  {
   "cell_type": "code",
   "execution_count": null,
   "metadata": {},
   "outputs": [],
   "source": []
  },
  {
   "cell_type": "code",
   "execution_count": null,
   "metadata": {},
   "outputs": [],
   "source": []
  }
 ],
 "metadata": {
  "kernelspec": {
   "display_name": "Python 3",
   "language": "python",
   "name": "python3"
  },
  "language_info": {
   "codemirror_mode": {
    "name": "ipython",
    "version": 3
   },
   "file_extension": ".py",
   "mimetype": "text/x-python",
   "name": "python",
   "nbconvert_exporter": "python",
   "pygments_lexer": "ipython3",
   "version": "3.7.6"
  }
 },
 "nbformat": 4,
 "nbformat_minor": 4
}
