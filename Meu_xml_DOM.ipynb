{
 "cells": [
  {
   "cell_type": "code",
   "execution_count": 2,
   "metadata": {},
   "outputs": [],
   "source": [
    "from xml.dom.minidom import parse\n",
    "import xml.dom.minidom"
   ]
  },
  {
   "cell_type": "code",
   "execution_count": 17,
   "metadata": {},
   "outputs": [
    {
     "name": "stdout",
     "output_type": "stream",
     "text": [
      "ISBN: 0-596-00128-2\n",
      "Titulo: Python y XML\n",
      "ISBN: 0-596-15810-6\n",
      "Titulo: Programacion avanzada de XML\n",
      "ISBN: 0-596-15806-8\n",
      "Titulo: Aprendiendo Java\n",
      "ISBN: 0-596-15808-4\n",
      "Titulo: Python para moviles\n",
      "ISBN: 0-596-00797-3\n",
      "Titulo: R para estadistica\n",
      "ISBN: 0-596-10046-9\n",
      "Titulo: Python en 100 paginas\n"
     ]
    }
   ],
   "source": [
    "arboldom=xml.dom.minidom.parse(\"datos.xml\")\n",
    "libros=arboldom.getElementsByTagName(\"Libro\")\n",
    "for libro in libros:\n",
    "    isbn=libro.getAttribute('isbn')\n",
    "    print(\"ISBN:\",isbn)\n",
    "    titulo=libro.getElementsByTagName(\"titulo\")[0]\n",
    "    print(\"Titulo:\",titulo.firstChild.data)\n"
   ]
  },
  {
   "cell_type": "code",
   "execution_count": null,
   "metadata": {},
   "outputs": [],
   "source": []
  }
 ],
 "metadata": {
  "kernelspec": {
   "display_name": "Python 3",
   "language": "python",
   "name": "python3"
  },
  "language_info": {
   "codemirror_mode": {
    "name": "ipython",
    "version": 3
   },
   "file_extension": ".py",
   "mimetype": "text/x-python",
   "name": "python",
   "nbconvert_exporter": "python",
   "pygments_lexer": "ipython3",
   "version": "3.7.6"
  }
 },
 "nbformat": 4,
 "nbformat_minor": 4
}
