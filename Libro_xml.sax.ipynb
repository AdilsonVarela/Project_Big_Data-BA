{
 "cells": [
  {
   "cell_type": "code",
   "execution_count": null,
   "metadata": {},
   "outputs": [],
   "source": [
    "import xml.sax\n",
    "\n",
    "class ManejadorCatalogo (xml.sax.ContentHandler):\n",
    "    def __init__(self):\n",
    "        self.Datos=\"\"\n",
    "        self.titulo=\"\"   # Elemento título\n",
    "        self.fecha=\"\"    # Elemento fecha\n",
    "        self.autor=\"\"    # Elemento autor\n",
    "\n",
    "    def startElement(self,etiqueta,atributos): \n",
    "        self.Datos=etiqueta \n",
    "        if etiqueta==\"Libro\": \n",
    "            print (\"****Libro****\") \n",
    "            isbn=atributos[\"isbn\"] \n",
    "            print (\"isbn:\", isbn) \n",
    "\n",
    "    def endElement(self,etiqueta): \n",
    "        if self.Datos==\"titulo\": \n",
    "            print (\"Titulo:\", self.titulo) \n",
    "        elif self.Datos==\"fecha\": \n",
    "            print (\"Fecha:\",self.fecha) \n",
    "        elif self.Datos==\"autor\": \n",
    "            print (\"Autor:\", self.autor) \n",
    "        self.Datos=\"\" \n",
    "\n",
    "    def characters(self,contenido): \n",
    "        if self.Datos==\"titulo\": \n",
    "            self.titulo=contenido \n",
    "        elif self.Datos==\"fecha\": \n",
    "            self.fecha=contenido \n",
    "        elif self.Datos==\"autor\": \n",
    "            self.autor=contenido \n",
    "\n",
    "if ( __name__ == \"__main__\"):\n",
    "    # Crear un XMLReader\n",
    "    parser=xml.sax.make_parser()\n",
    "    # Deshabilitar namespaces\n",
    "    parser.setFeature(xml.sax.handler.feature_namespaces,0)\n",
    "    #Sobre escribir el default default ContextHandler\n",
    "    Handler=ManejadorCatalogo()\n",
    "    \n",
    "    parser.setContentHandler(Handler)\n",
    "    parser.parse(\"Datos.xml\") "
   ]
  }
 ],
 "metadata": {
  "kernelspec": {
   "display_name": "Python 3",
   "language": "python",
   "name": "python3"
  },
  "language_info": {
   "codemirror_mode": {
    "name": "ipython",
    "version": 3
   },
   "file_extension": ".py",
   "mimetype": "text/x-python",
   "name": "python",
   "nbconvert_exporter": "python",
   "pygments_lexer": "ipython3",
   "version": "3.7.6"
  }
 },
 "nbformat": 4,
 "nbformat_minor": 4
}
