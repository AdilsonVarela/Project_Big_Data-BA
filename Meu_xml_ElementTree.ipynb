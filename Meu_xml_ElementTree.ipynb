{
 "cells": [
  {
   "cell_type": "code",
   "execution_count": 3,
   "metadata": {},
   "outputs": [],
   "source": [
    "from xml.etree import ElementTree as ET\n"
   ]
  },
  {
   "cell_type": "code",
   "execution_count": 4,
   "metadata": {},
   "outputs": [
    {
     "name": "stdout",
     "output_type": "stream",
     "text": [
      "Datos --- \n",
      "\t --- {}\n",
      "Libro --- \n",
      "\t\t --- {'isbn': '0-596-00128-2'}\n",
      "titulo --- Python y XML --- {}\n",
      "fecha --- Diciembre 2001 --- {}\n",
      "autor --- Pepito Perez --- {}\n",
      "Libro --- \n",
      "\t\t --- {'isbn': '0-596-15810-6'}\n",
      "titulo --- Programacion avanzada de XML --- {}\n",
      "fecha --- Octoubre 2010 --- {}\n",
      "autor --- Juan Garcia --- {}\n",
      "Libro --- \n",
      "\t\t --- {'isbn': '0-596-15806-8'}\n",
      "titulo --- Aprendiendo Java --- {}\n",
      "fecha --- Septiembre 2009 --- {}\n",
      "autor --- Juan Garcia --- {}\n",
      "Libro --- \n",
      "\t\t --- {'isbn': '0-596-15808-4'}\n",
      "titulo --- Python para moviles --- {}\n",
      "fecha --- Octubre 2009 --- {}\n",
      "autor --- Pepito Perez --- {}\n",
      "Libro --- \n",
      "\t\t --- {'isbn': '0-596-00797-3'}\n",
      "titulo --- R para estadistica --- {}\n",
      "fecha --- Marzo 2005 --- {}\n",
      "autor --- Juan --- {}\n",
      "autor --- Pepe --- {}\n",
      "autor --- Isabel --- {}\n",
      "Libro ---  \n",
      "\t\t --- {'isbn': '0-596-10046-9'}\n",
      "titulo --- Python en 100 paginas --- {}\n",
      "fecha --- Julio 2006 --- {}\n",
      "autor --- Julia --- {}\n"
     ]
    }
   ],
   "source": [
    "f= open(\"datos.xml\",'rt')\n",
    "arbol=ET.parse(f)\n",
    "for nodo in arbol.iter():\n",
    "    print (nodo.tag, \"---\",nodo.text, \"---\" ,nodo.attrib)\n",
    "    "
   ]
  },
  {
   "cell_type": "code",
   "execution_count": 65,
   "metadata": {},
   "outputs": [
    {
     "name": "stdout",
     "output_type": "stream",
     "text": [
      "Libro ----- {'isbn': '0-596-00128-2'}\n",
      "Libro ----- {'isbn': '0-596-15810-6'}\n",
      "Libro ----- {'isbn': '0-596-15806-8'}\n",
      "Libro ----- {'isbn': '0-596-15808-4'}\n",
      "Libro ----- {'isbn': '0-596-00797-3'}\n",
      "Libro ----- {'isbn': '0-596-10046-9'}\n"
     ]
    }
   ],
   "source": [
    "f= open(\"datos.xml\",'rt')\n",
    "arbol=ET.parse(f)\n",
    "raiz=arbol.getroot()\n",
    "for nodo in raiz:\n",
    "    print(nodo.tag,\"-----\",nodo.attrib)\n"
   ]
  },
  {
   "cell_type": "markdown",
   "metadata": {},
   "source": [
    "# Get cada elemento da lista com findall"
   ]
  },
  {
   "cell_type": "code",
   "execution_count": 74,
   "metadata": {},
   "outputs": [
    {
     "name": "stdout",
     "output_type": "stream",
     "text": [
      "Titulo: 1 Python y XML\n",
      "Titulo: 2 Programacion avanzada de XML\n",
      "Titulo: 3 Aprendiendo Java\n",
      "Titulo: 4 Python para moviles\n",
      "Titulo: 5 R para estadistica\n",
      "Titulo: 6 Python en 100 paginas\n"
     ]
    }
   ],
   "source": [
    "f= open(\"datos.xml\",'rt')\n",
    "arbol=ET.parse(f)\n",
    "i=1\n",
    "for nodo in arbol.findall(\"./Libro/titulo\"):\n",
    "    print(\"Titulo:\",i, nodo.text)\n",
    "    i+=1"
   ]
  },
  {
   "cell_type": "markdown",
   "metadata": {},
   "source": [
    "# Usar ElementTree semelhante ao SAX com INTERPARSE"
   ]
  },
  {
   "cell_type": "code",
   "execution_count": 82,
   "metadata": {},
   "outputs": [
    {
     "name": "stdout",
     "output_type": "stream",
     "text": [
      "****** LIBRO*****\n",
      "ISBN: 0-596-00128-2\n",
      "Titulo: Python y XML\n",
      "Fecha: Diciembre 2001\n",
      "Autor: Pepito Perez\n",
      "****** LIBRO*****\n",
      "ISBN: 0-596-15810-6\n",
      "Titulo: Programacion avanzada de XML\n",
      "Fecha: Octoubre 2010\n",
      "Autor: Juan Garcia\n",
      "****** LIBRO*****\n",
      "ISBN: 0-596-15806-8\n",
      "Titulo: Aprendiendo Java\n",
      "Fecha: Septiembre 2009\n",
      "Autor: Juan Garcia\n",
      "****** LIBRO*****\n",
      "ISBN: 0-596-15808-4\n",
      "Titulo: Python para moviles\n",
      "Fecha: Octubre 2009\n",
      "Autor: Pepito Perez\n",
      "****** LIBRO*****\n",
      "ISBN: 0-596-00797-3\n",
      "Titulo: R para estadistica\n",
      "Fecha: Marzo 2005\n",
      "Autor: Juan\n",
      "Autor: Pepe\n",
      "Autor: Isabel\n",
      "****** LIBRO*****\n",
      "ISBN: 0-596-10046-9\n",
      "Titulo: Python en 100 paginas\n",
      "Fecha: Julio 2006\n",
      "Autor: Julia\n"
     ]
    }
   ],
   "source": [
    "from xml.etree.ElementTree import iterparse\n",
    "\n",
    "for(event, element) in iterparse (\"datos.xml\",(\"start\",\"end\")):\n",
    "    if (event == \"start\"):\n",
    "        if ( element.tag==\"Libro\" ):\n",
    "            print(\"****** LIBRO*****\")\n",
    "            print(\"ISBN:\", element.attrib['isbn'])\n",
    "    if (event==\"end\"):\n",
    "        if element.tag==\"titulo\":\n",
    "            print(\"Titulo:\",element.text)\n",
    "        elif element.tag==\"fecha\":\n",
    "            print(\"Fecha:\",element.text)\n",
    "        elif element.tag==\"autor\":\n",
    "            print(\"Autor:\",element.text)"
   ]
  },
  {
   "cell_type": "markdown",
   "metadata": {},
   "source": [
    "# ElementTree com Fromstring"
   ]
  },
  {
   "cell_type": "code",
   "execution_count": 87,
   "metadata": {},
   "outputs": [],
   "source": [
    "import xml.etree.ElementTree as ET\n",
    "\n",
    "dados='''<Datos>\n",
    "            <Libro isbn=\"0-596-00128-2\">\n",
    "                <titulo>Python y XML</titulo>\n",
    "                <fecha>Diciembre 2001</fecha>\n",
    "                <autor>Pepito Perez</autor>\n",
    "           </Libro>\n",
    "           <Libro isbn=\"0-596-15810-6\">\n",
    "                <titulo>Programacion avanzada de XML</titulo> \n",
    "                <fecha>Octoubre 2010</fecha>\n",
    "                <autor>Juan Garcia</autor>\n",
    "          </Libro>\n",
    "          <Libro isbn=\"0-596-10046-9\"> \n",
    "                <titulo>Python en 100 paginas</titulo> \n",
    "                <fecha>Julio 2006</fecha>\n",
    "                <autor>Julia</autor>\n",
    "         </Libro>\n",
    "      </Datos>\n",
    "'''"
   ]
  },
  {
   "cell_type": "code",
   "execution_count": 102,
   "metadata": {},
   "outputs": [
    {
     "name": "stdout",
     "output_type": "stream",
     "text": [
      "ISBN: 0-596-00128-2\n",
      "Titulo: Python y XML\n",
      "Fecha: Diciembre 2001\n",
      "Autor: Pepito Perez\n",
      "ISBN: 0-596-15810-6\n",
      "Titulo: Programacion avanzada de XML\n",
      "Fecha: Octoubre 2010\n",
      "Autor: Juan Garcia\n",
      "ISBN: 0-596-10046-9\n",
      "Titulo: Python en 100 paginas\n",
      "Fecha: Julio 2006\n",
      "Autor: Julia\n"
     ]
    }
   ],
   "source": [
    "doc=ET.fromstring(dados)\n",
    "lista =doc.findall('Libro')\n",
    "for l in lista:\n",
    "    print(\"ISBN:\",l.get('isbn'))\n",
    "    print(\"Titulo:\",l.find('titulo').text)\n",
    "    print(\"Fecha:\",l.find('fecha').text)\n",
    "    print(\"Autor:\",l.find('autor').text)"
   ]
  },
  {
   "cell_type": "code",
   "execution_count": 114,
   "metadata": {},
   "outputs": [],
   "source": [
    "dados1=''' <channel>\n",
    "            <item nnoticia=\"01\">\n",
    "                <title>Noticias</title>\n",
    "                <link>http://misitio.com</link>\n",
    "                 <description>Portal de Noticias de España</description>\n",
    "             </item>\n",
    "             <item nnoticia=\"02\">\n",
    "                <title>Noticia 1</title>\n",
    "                <link>http://misitio.com/noticia1</link>\n",
    "                <description>Descripción de la noticia 1</description>\n",
    "             </item>\n",
    "             <item nnoticia=\"03\">\n",
    "                <title>Noticia 2</title>\n",
    "                <link>http://misitio.com/noticia2</link>\n",
    "                <description>Descripción de la noticia 2</description>\n",
    "             </item>\n",
    "             <item nnoticia=\"03\">\n",
    "                <title>Noticia 3</title>\n",
    "                <link>http://misitio.com/noticia3</link>\n",
    "                <description>Descripción de la noticia 3</description>\n",
    "             </item>\n",
    "         </channel>\n",
    "'''"
   ]
  },
  {
   "cell_type": "code",
   "execution_count": 115,
   "metadata": {},
   "outputs": [
    {
     "name": "stdout",
     "output_type": "stream",
     "text": [
      "nnoticia: 01\n",
      "Titulo: Noticias\n",
      "Link: http://misitio.com\n",
      "description: Portal de Noticias de España\n",
      "nnoticia: 02\n",
      "Titulo: Noticia 1\n",
      "Link: http://misitio.com/noticia1\n",
      "description: Descripción de la noticia 1\n",
      "nnoticia: 03\n",
      "Titulo: Noticia 2\n",
      "Link: http://misitio.com/noticia2\n",
      "description: Descripción de la noticia 2\n",
      "nnoticia: 03\n",
      "Titulo: Noticia 3\n",
      "Link: http://misitio.com/noticia3\n",
      "description: Descripción de la noticia 3\n"
     ]
    }
   ],
   "source": [
    "doc1=ET.fromstring(dados1)\n",
    "lista1=doc1.findall('item')\n",
    "\n",
    "for n in lista1:\n",
    "    print(\"nnoticia:\",n.get('nnoticia'))\n",
    "    print(\"Titulo:\",n.find('title').text)\n",
    "    print(\"Link:\",n.find('link').text)\n",
    "    print(\"description:\",n.find('description').text)\n",
    "\n",
    "\n",
    "     "
   ]
  },
  {
   "cell_type": "code",
   "execution_count": null,
   "metadata": {},
   "outputs": [],
   "source": []
  },
  {
   "cell_type": "code",
   "execution_count": null,
   "metadata": {},
   "outputs": [],
   "source": []
  }
 ],
 "metadata": {
  "kernelspec": {
   "display_name": "Python 3",
   "language": "python",
   "name": "python3"
  },
  "language_info": {
   "codemirror_mode": {
    "name": "ipython",
    "version": 3
   },
   "file_extension": ".py",
   "mimetype": "text/x-python",
   "name": "python",
   "nbconvert_exporter": "python",
   "pygments_lexer": "ipython3",
   "version": "3.7.6"
  }
 },
 "nbformat": 4,
 "nbformat_minor": 4
}
